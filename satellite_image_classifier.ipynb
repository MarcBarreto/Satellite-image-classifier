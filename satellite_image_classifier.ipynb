{
  "nbformat": 4,
  "nbformat_minor": 0,
  "metadata": {
    "colab": {
      "provenance": [],
      "gpuType": "T4"
    },
    "kernelspec": {
      "name": "python3",
      "display_name": "Python 3"
    },
    "language_info": {
      "name": "python"
    },
    "accelerator": "GPU"
  },
  "cells": [
    {
      "cell_type": "code",
      "execution_count": 1,
      "metadata": {
        "id": "8STTv21TwiNi"
      },
      "outputs": [],
      "source": [
        "import os\n",
        "import time\n",
        "import torch\n",
        "import shutil\n",
        "import random\n",
        "import sklearn\n",
        "import numpy as np\n",
        "import torchvision\n",
        "import torch.nn as nn\n",
        "import seaborn as sns\n",
        "import torch.optim as optim\n",
        "import torch.nn.functional as F\n",
        "import matplotlib.pyplot as plt\n",
        "import torchvision.transforms as transforms\n",
        "from tqdm import tqdm\n",
        "from torchvision.datasets import ImageFolder\n",
        "from sklearn.metrics import confusion_matrix"
      ]
    },
    {
      "cell_type": "code",
      "source": [
        "# GPU Memory Reset\n",
        "from numba import cuda\n",
        "device = cuda.get_current_device()\n",
        "device.reset()"
      ],
      "metadata": {
        "id": "GGzxPNkTyF4P"
      },
      "execution_count": 2,
      "outputs": []
    },
    {
      "cell_type": "markdown",
      "source": [
        "# **Loading Data**"
      ],
      "metadata": {
        "id": "z-io_WItf4kX"
      }
    },
    {
      "cell_type": "code",
      "source": [
        "from google.colab import drive\n",
        "\n",
        "drive.mount('/content/drive')"
      ],
      "metadata": {
        "colab": {
          "base_uri": "https://localhost:8080/"
        },
        "id": "d2mKNCAL0O-u",
        "outputId": "929141da-ba88-429a-ac72-9911eda0b4f0"
      },
      "execution_count": 3,
      "outputs": [
        {
          "output_type": "stream",
          "name": "stdout",
          "text": [
            "Mounted at /content/drive\n"
          ]
        }
      ]
    },
    {
      "cell_type": "code",
      "source": [
        "# Remove folders from dataset\n",
        "try:\n",
        "  shutil.rmtree('EuroSAT_RGB')\n",
        "  shutil.rmtree('__MACOSX')\n",
        "  shutil.rmtree('imagens_treino')\n",
        "  shutil.rmtree('imagens_teste')\n",
        "except Exception as e:\n",
        "  print(f'Folders not found')"
      ],
      "metadata": {
        "colab": {
          "base_uri": "https://localhost:8080/"
        },
        "id": "ub35Vb3Q0uxK",
        "outputId": "d1d4e19e-53d1-4d14-99b6-e06436c9686f"
      },
      "execution_count": 4,
      "outputs": [
        {
          "output_type": "stream",
          "name": "stdout",
          "text": [
            "Folders not found\n"
          ]
        }
      ]
    },
    {
      "cell_type": "code",
      "source": [
        "# Unzip dataset\n",
        "!unzip /content/drive/MyDrive/Colab\\ Notebooks/Cap9/EuroSAT_RGB.zip"
      ],
      "metadata": {
        "id": "MdS9NPrA1VQI"
      },
      "execution_count": null,
      "outputs": []
    },
    {
      "cell_type": "code",
      "source": [
        "if not os.path.isdir('train_images'):\n",
        "  os.mkdir('train_images')\n",
        "if not os.path.isdir('test_images'):\n",
        "  os.mkdir('test_images')"
      ],
      "metadata": {
        "id": "XeUSzHfx2FNW"
      },
      "execution_count": 6,
      "outputs": []
    },
    {
      "cell_type": "code",
      "source": [
        "source_images = 'EuroSAT_RGB'\n",
        "destination_train = 'train_images'\n",
        "destination_test = 'test_images'"
      ],
      "metadata": {
        "id": "E8zUJRgr2xId"
      },
      "execution_count": 7,
      "outputs": []
    },
    {
      "cell_type": "markdown",
      "source": [
        "# **Separating Images**"
      ],
      "metadata": {
        "id": "nHFP2Wekf-F-"
      }
    },
    {
      "cell_type": "code",
      "source": [
        "image_class = 0\n",
        "class_dict = {}"
      ],
      "metadata": {
        "id": "Ht5KBI44gDA2"
      },
      "execution_count": 8,
      "outputs": []
    },
    {
      "cell_type": "code",
      "source": [
        "files = os.listdir(source_images)\n",
        "files.sort()"
      ],
      "metadata": {
        "id": "h-y0ARgdgere"
      },
      "execution_count": 9,
      "outputs": []
    },
    {
      "cell_type": "code",
      "source": [
        "# Iterate over all images\n",
        "for file_path in files:\n",
        "  # Check if the file is not a hidden file\n",
        "  if file_path[0] != '.':\n",
        "    # List all images in the current directory\n",
        "    images = os.listdir(source_images + '/' + file_path)\n",
        "\n",
        "    # Calculate sample size for training (80% of images)\n",
        "    sample_size = int(len(images) * 0.8)\n",
        "\n",
        "    # Initialize a list to store training image names\n",
        "    train = []\n",
        "\n",
        "    # Define the destination path for training images\n",
        "    final_dest = destination_train + '/' + str(image_class)\n",
        "\n",
        "    # Create the destination directory for training images\n",
        "    os.mkdir(final_dest)\n",
        "\n",
        "    # Copy a random sample of images to the training directory\n",
        "    for file_name in random.sample(images, sample_size):\n",
        "      shutil.copy2(os.path.join(source_images, file_path, file_name), final_dest)\n",
        "\n",
        "      # Add the file name to the training list\n",
        "      train.append(file_name)\n",
        "\n",
        "    # Determine the test images by subtracting the training images from all images\n",
        "    test_images = list(set(images) - set(train))\n",
        "\n",
        "    # Define the destination path for test images\n",
        "    final_dest = destination_test + '/' + str(image_class)\n",
        "\n",
        "    # Create the destination directory for test images\n",
        "    os.mkdir(final_dest)\n",
        "\n",
        "    # Copy the test images to the test directory\n",
        "    for test_image in test_images:\n",
        "      shutil.copy2(os.path.join(source_images, file_path, test_image), final_dest)\n",
        "\n",
        "    # Map the current class index to the file path in the class dictionary\n",
        "    class_dict[image_class] = file_path\n",
        "\n",
        "    # Increment the class index for the next iteration\n",
        "    image_class += 1"
      ],
      "metadata": {
        "id": "pOQpbJEkhl4i"
      },
      "execution_count": 10,
      "outputs": []
    }
  ]
}